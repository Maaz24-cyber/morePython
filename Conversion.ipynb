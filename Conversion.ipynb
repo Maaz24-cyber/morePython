{
 "cells": [
  {
   "cell_type": "markdown",
   "metadata": {},
   "source": [
    "# Km Into Miles Converter"
   ]
  },
  {
   "cell_type": "code",
   "execution_count": 18,
   "metadata": {},
   "outputs": [
    {
     "name": "stdout",
     "output_type": "stream",
     "text": [
      "Enter any speed in KM 56\n",
      "Speed in Miles is 35\n"
     ]
    }
   ],
   "source": [
    "sp= float(input(\"Enter any speed in KM \"))\n",
    "Calc=0.6214371\n",
    "print(\"Speed in Miles is\",round(sp*Calc))"
   ]
  },
  {
   "cell_type": "markdown",
   "metadata": {},
   "source": [
    "# Temperature in Celsius To Fahrenheit"
   ]
  },
  {
   "cell_type": "code",
   "execution_count": 23,
   "metadata": {},
   "outputs": [
    {
     "name": "stdout",
     "output_type": "stream",
     "text": [
      "Enter Temperature in celsius 36\n",
      "Temperature in Fahrenheit is  96.8\n"
     ]
    }
   ],
   "source": [
    "tem=float(input(\"Enter Temperature in celsius \"))\n",
    "\n",
    "far=((tem*1.8)+32)\n",
    "print(\"Temperature in Fahrenheit is \", far )"
   ]
  },
  {
   "cell_type": "code",
   "execution_count": null,
   "metadata": {},
   "outputs": [],
   "source": []
  }
 ],
 "metadata": {
  "kernelspec": {
   "display_name": "Python 3",
   "language": "python",
   "name": "python3"
  },
  "language_info": {
   "codemirror_mode": {
    "name": "ipython",
    "version": 3
   },
   "file_extension": ".py",
   "mimetype": "text/x-python",
   "name": "python",
   "nbconvert_exporter": "python",
   "pygments_lexer": "ipython3",
   "version": "3.8.3"
  }
 },
 "nbformat": 4,
 "nbformat_minor": 4
}
